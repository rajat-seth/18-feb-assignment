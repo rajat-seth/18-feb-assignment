{
 "cells": [
  {
   "cell_type": "markdown",
   "id": "22faf088-55f7-45f3-937c-e7e3977707c6",
   "metadata": {},
   "source": [
    "Q1)API stands for Application Programme Interface.It is used to establish a relationship between two software based on different languages. \n",
    "For example Google pay and HDFC banking system both are based on two different languages for instance assume Java and Python. So an API will be allow communication between these two Software."
   ]
  },
  {
   "cell_type": "markdown",
   "id": "e192b17c-213f-47fd-b5ce-c25653e82c8c",
   "metadata": {},
   "source": [
    "Q2) Advantages:It allows more efficient data distribution.\n",
    "\n",
    "               It has ability to adapt to chnages through data migration and flexibility of services.\n",
    "               \n",
    "    Disadvantages: It can become hackers primary target.\n",
    "                   It is very vulnerable."
   ]
  },
  {
   "cell_type": "markdown",
   "id": "3fd9173a-c1ce-4510-8633-dfcacf1c51dd",
   "metadata": {},
   "source": [
    "Q3) API which is based on web services and uses an extensible framework for building HTTP based services that can be accessed in different applications on different platform.\n",
    "API is used to communicate data between two software where as Web api is used to communicate between two web applications based on HTML.\n"
   ]
  },
  {
   "cell_type": "markdown",
   "id": "7e21bd2b-0129-4455-a52e-2787fb2d8e59",
   "metadata": {},
   "source": [
    "Q4)REST is a set of guidelines that offers flexible implementation, whereas SOAP is a protocol with specific requirements like XML messaging. \n",
    "Shortcoming of SOAP are it is heavyweight,complex etc."
   ]
  },
  {
   "cell_type": "markdown",
   "id": "5af0fb06-407a-4eae-bfc7-c0076a0eedb3",
   "metadata": {},
   "source": [
    "Q5)Rest is a guideline that offer flexible implementation and Soap is a protocol with specific requirement."
   ]
  },
  {
   "cell_type": "code",
   "execution_count": null,
   "id": "258c7115-2f04-4e5a-a9a9-f8303a55b186",
   "metadata": {},
   "outputs": [],
   "source": []
  }
 ],
 "metadata": {
  "kernelspec": {
   "display_name": "Python 3 (ipykernel)",
   "language": "python",
   "name": "python3"
  },
  "language_info": {
   "codemirror_mode": {
    "name": "ipython",
    "version": 3
   },
   "file_extension": ".py",
   "mimetype": "text/x-python",
   "name": "python",
   "nbconvert_exporter": "python",
   "pygments_lexer": "ipython3",
   "version": "3.10.8"
  }
 },
 "nbformat": 4,
 "nbformat_minor": 5
}
